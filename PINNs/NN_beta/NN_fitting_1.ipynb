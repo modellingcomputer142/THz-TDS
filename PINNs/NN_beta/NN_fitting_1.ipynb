{
 "cells": [
  {
   "cell_type": "markdown",
   "metadata": {},
   "source": [
    "# First neural network fitting for THz-TDS material parameter extraction"
   ]
  },
  {
   "cell_type": "code",
   "execution_count": 1,
   "metadata": {},
   "outputs": [],
   "source": [
    "import pandas as pd\n",
    "import numpy as np\n",
    "import matplotlib.pyplot as plt\n",
    "import tensorflow as tf\n",
    "from tensorflow.keras import Model\n",
    "from tensorflow.keras.layers import Input, Dense, Dropout, BatchNormalization\n",
    "from tensorflow.keras.callbacks import Callback\n",
    "from sklearn.preprocessing import MinMaxScaler\n",
    "from sklearn.model_selection import train_test_split\n",
    "from IPython.display import display, clear_output"
   ]
  },
  {
   "cell_type": "markdown",
   "metadata": {},
   "source": [
    "## Prepare the data"
   ]
  },
  {
   "cell_type": "code",
   "execution_count": null,
   "metadata": {},
   "outputs": [],
   "source": [
    "# Prepare NN training data\n",
    "df = pd.read_csv('training_data/NN_data_2025-01-24_12-39-28.csv') # Replace this with a generated dataset as these are too large to store on github.\n",
    "print('df head:')\n",
    "display(df.head())\n",
    "\n",
    "df.describe()"
   ]
  },
  {
   "cell_type": "code",
   "execution_count": null,
   "metadata": {},
   "outputs": [],
   "source": [
    "# Split up data sets\n",
    "X = df[['H', 'phi', 'freq']].head(int(len(df['freq'])))\n",
    "Y = df[['n', 'k']].head(int(len(df['freq'])))\n",
    "\n",
    "# Normalize frequencies to prevent weighting issues\n",
    "freq_scaler = MinMaxScaler(feature_range=(0.01, 1))\n",
    "\n",
    "X[['freq']] = freq_scaler.fit_transform(X[['freq']])\n",
    "\n",
    "# Prepare validation datasets for plotting\n",
    "N = 4   # Number of included datasets\n",
    "\n",
    "X_val = X.head(N*64)\n",
    "Y_val = Y.head(N*64)\n",
    "\n",
    "\n",
    "# Check DataFrames\n",
    "display(X)\n",
    "display(Y)\n",
    "\n",
    "# Check value bounds of results\n",
    "print('Target bounds:')\n",
    "print(f'n: min: {min(Y[\"n\"])}, max: {max(Y[\"n\"])}')\n",
    "print(f'k: min: {min(Y[\"k\"])}, max: {max(Y[\"k\"])}')"
   ]
  },
  {
   "cell_type": "code",
   "execution_count": null,
   "metadata": {},
   "outputs": [],
   "source": [
    "display(X_val)\n",
    "display(Y_val)"
   ]
  },
  {
   "cell_type": "code",
   "execution_count": null,
   "metadata": {},
   "outputs": [],
   "source": [
    "plt.plot(X['freq'].head(64),X['H'].head(64))"
   ]
  },
  {
   "cell_type": "code",
   "execution_count": null,
   "metadata": {},
   "outputs": [],
   "source": [
    "# Split into training and testing datasets\n",
    "X_train, X_test, Y_train, Y_test = train_test_split(X, Y, test_size=0.2, random_state=42)\n",
    "\n",
    "# Output to check shapes\n",
    "print(f\"X_train shape: {X_train.shape}\")\n",
    "print(f\"X_test shape: {X_test.shape}\")\n",
    "print(f\"Y_train shape: {Y_train.shape}\")\n",
    "print(f\"Y_test shape: {Y_test.shape}\")"
   ]
  },
  {
   "cell_type": "markdown",
   "metadata": {},
   "source": [
    "## First model (basic)"
   ]
  },
  {
   "cell_type": "code",
   "execution_count": 8,
   "metadata": {},
   "outputs": [],
   "source": [
    "# Define the model\n",
    "\n",
    "# TODO: test deeper network. 5x16? \n",
    "\n",
    "def build_model_basic(input_shape, output_shape, hidden_layers: int = 1):\n",
    "    # Input layer\n",
    "    inputs = Input(shape=input_shape, name=\"Input_Layer\")\n",
    "    \n",
    "    # Use loops to add main hidden layers\n",
    "    for i in range(hidden_layers):\n",
    "        x = Dense(256, activation='tanh')(inputs) \n",
    "        #x = BatchNormalization()(x)\n",
    "        #x = Dropout(0.3)(x)\n",
    "\n",
    "    # Output layer\n",
    "    outputs = Dense(output_shape, activation='linear', name=\"Output_Layer\")(x)\n",
    "\n",
    "    # Build the model\n",
    "    model = Model(inputs=inputs, outputs=outputs, name=\"model_basic\")\n",
    "    return model"
   ]
  },
  {
   "cell_type": "code",
   "execution_count": null,
   "metadata": {},
   "outputs": [],
   "source": [
    "# Model parameters\n",
    "input_shape = (3,)  # Number of features in X\n",
    "output_shape = 2    # Number of outputs in Y\n",
    "\n",
    "# Build the model\n",
    "model_basic = build_model_basic(input_shape, output_shape)\n",
    "\n",
    "# Compile the model\n",
    "model_basic.compile(optimizer='adam', \n",
    "                    loss='mse',  # Mean Squared Error for regression\n",
    "                    metrics=['mae'])  # Mean Absolute Error as an additional metric\n",
    "\n",
    "# Summary\n",
    "model_basic.summary()"
   ]
  },
  {
   "cell_type": "code",
   "execution_count": null,
   "metadata": {},
   "outputs": [],
   "source": [
    "# Train the model\n",
    "history = model_basic.fit(X_train, Y_train,\n",
    "                          validation_data=(X_test, Y_test),\n",
    "                          epochs=10,\n",
    "                          batch_size=128,\n",
    "                          verbose=1)\n",
    "\n",
    "# Evaluate the model\n",
    "results = model_basic.evaluate(X_test, Y_test, verbose=0)\n",
    "print(f\"Test Loss (MSE): {results[0]:.4f}\")\n",
    "print(f\"Test MAE: {results[1]:.4f}\")\n"
   ]
  },
  {
   "cell_type": "code",
   "execution_count": null,
   "metadata": {},
   "outputs": [],
   "source": [
    "# Plot training and validation metrics\n",
    "def plot_training_history(history):\n",
    "    # Extract metrics\n",
    "    loss = history.history['loss']\n",
    "    val_loss = history.history['val_loss']\n",
    "    mae = history.history['mae']\n",
    "    val_mae = history.history['val_mae']\n",
    "    epochs = range(1, len(loss) + 1)\n",
    "    \n",
    "    # Plot Loss\n",
    "    plt.figure(figsize=(14, 6))\n",
    "    \n",
    "    plt.subplot(1, 2, 1)\n",
    "    plt.plot(epochs, loss, 'b-', label='Training Loss')\n",
    "    plt.plot(epochs, val_loss, 'r-', label='Validation Loss')\n",
    "    plt.title('Training and Validation Loss')\n",
    "    plt.xlabel('Epochs')\n",
    "    plt.ylabel('Loss (MSE)')\n",
    "    plt.legend()\n",
    "    plt.grid(True)\n",
    "    \n",
    "    # Plot MAE\n",
    "    plt.subplot(1, 2, 2)\n",
    "    plt.plot(epochs, mae, 'b-', label='Training MAE')\n",
    "    plt.plot(epochs, val_mae, 'r-', label='Validation MAE')\n",
    "    plt.title('Training and Validation MAE')\n",
    "    plt.xlabel('Epochs')\n",
    "    plt.ylabel('Mean Absolute Error (MAE)')\n",
    "    plt.legend()\n",
    "    plt.grid(True)\n",
    "    \n",
    "    plt.tight_layout()\n",
    "    plt.show()\n",
    "\n",
    "# Call the function to plot the metrics\n",
    "plot_training_history(history)"
   ]
  },
  {
   "cell_type": "code",
   "execution_count": null,
   "metadata": {},
   "outputs": [],
   "source": [
    "test = model_basic.predict(X_val.head(64))[:,0]\n",
    "\n",
    "test"
   ]
  },
  {
   "cell_type": "code",
   "execution_count": null,
   "metadata": {},
   "outputs": [],
   "source": [
    "# Reshape the data: Y_val has 4 sets, each with 64 points\n",
    "n_data = Y_val['n'].values.reshape(4, 64)  # Reshape to 4 sets of 64 points each\n",
    "k_data = Y_val['k'].values.reshape(4, 64)\n",
    "\n",
    "freqs = X_val['freq'].values.reshape(4, 64)\n",
    "# freqs = (freqs * 1e-12) / (2 * np.pi)\n",
    "\n",
    "# Make predictions using the model\n",
    "predictions = model_basic.predict(X_val)\n",
    "predictions_df = pd.DataFrame(predictions, columns=['n', 'k'])\n",
    "\n",
    "# Reshape the data: predicted data has 4 sets, each with 64 points\n",
    "n_pred = predictions_df['n'].values.reshape(4, 64)  # Reshape to 4 sets of 64 points each\n",
    "k_pred = predictions_df['k'].values.reshape(4, 64)"
   ]
  },
  {
   "cell_type": "code",
   "execution_count": null,
   "metadata": {},
   "outputs": [],
   "source": [
    "# Create a 4x2 grid of subplots\n",
    "fig, axes = plt.subplots(2, 4, figsize=(16, 8))  # 4 wide, 2 tall grid\n",
    "\n",
    "# Plotting the n-related data (top row)\n",
    "for i in range(4):  # There are 4 columns in the top row\n",
    "    ax = axes[0, i]  # Access the subplot in the top row\n",
    "    ax.plot(freqs[i], n_data[i], 'b-', label='n val')  # Blue for actual n\n",
    "    ax.plot(freqs[i], n_pred[i], 'g-', label='n pred')  # Green for predicted n\n",
    "    ax.set_title(f'n Plot {i + 1}')\n",
    "    ax.set_xlabel('Normalized Frequency')\n",
    "    ax.set_ylabel('n')\n",
    "    ax.legend()\n",
    "\n",
    "# Plotting the k-related data (bottom row)\n",
    "for i in range(4):  # There are 4 columns in the bottom row\n",
    "    ax = axes[1, i]  # Access the subplot in the bottom row\n",
    "    ax.plot(freqs[i], k_data[i], 'r-', label='k val')  # Red for actual k\n",
    "    ax.plot(freqs[i], k_pred[i], 'orange', label='k pred')  # Orange for predicted k\n",
    "    ax.set_title(f'k Plot {i + 1}')\n",
    "    ax.set_xlabel('Normalized Frequency')\n",
    "    ax.set_ylabel('k')\n",
    "    ax.legend()\n",
    "\n",
    "# Adjust layout to prevent overlap\n",
    "plt.tight_layout()\n",
    "\n",
    "# Show the plot\n",
    "plt.show()"
   ]
  },
  {
   "cell_type": "markdown",
   "metadata": {},
   "source": [
    "### Custom live plotting of training"
   ]
  },
  {
   "cell_type": "code",
   "execution_count": null,
   "metadata": {},
   "outputs": [],
   "source": [
    "'''\n",
    "# Define the custom callback\n",
    "class LivePlotCallback(Callback):\n",
    "    def __init__(self):\n",
    "        super(LivePlotCallback, self).__init__()\n",
    "        self.epochs = []\n",
    "        self.loss = []\n",
    "        self.val_loss = []\n",
    "        self.mae = []\n",
    "        self.val_mae = []\n",
    "\n",
    "    def on_epoch_end(self, epoch, logs=None):\n",
    "        # Append metrics for each epoch\n",
    "        self.epochs.append(epoch + 1)\n",
    "        self.loss.append(logs['loss'])\n",
    "        self.val_loss.append(logs['val_loss'])\n",
    "        self.mae.append(logs['mae'])\n",
    "        self.val_mae.append(logs['val_mae'])\n",
    "\n",
    "        # Clear output and plot\n",
    "        clear_output(wait=True)\n",
    "        plt.figure(figsize=(14, 6))\n",
    "\n",
    "        # Plot Loss\n",
    "        plt.subplot(1, 2, 1)\n",
    "        plt.plot(self.epochs, self.loss, 'b-', label='Training Loss')\n",
    "        plt.plot(self.epochs, self.val_loss, 'r-', label='Validation Loss')\n",
    "        plt.title('Training and Validation Loss')\n",
    "        plt.xlabel('Epochs')\n",
    "        plt.ylabel('Loss (MSE)')\n",
    "        plt.legend()\n",
    "        plt.grid(True)\n",
    "\n",
    "        # Plot MAE\n",
    "        plt.subplot(1, 2, 2)\n",
    "        plt.plot(self.epochs, self.mae, 'b-', label='Training MAE')\n",
    "        plt.plot(self.epochs, self.val_mae, 'r-', label='Validation MAE')\n",
    "        plt.title('Training and Validation MAE')\n",
    "        plt.xlabel('Epochs')\n",
    "        plt.ylabel('Mean Absolute Error (MAE)')\n",
    "        plt.legend()\n",
    "        plt.grid(True)\n",
    "\n",
    "        plt.tight_layout()\n",
    "        plt.show()\n",
    "\n",
    "# Train the model with the custom callback\n",
    "history = model_basic.fit(\n",
    "    X_train, Y_train,\n",
    "    validation_data=(X_test, Y_test),\n",
    "    epochs=50,\n",
    "    batch_size=256,\n",
    "    callbacks=[LivePlotCallback()],  # Add custom callback\n",
    "    verbose=1\n",
    ")\n",
    "'''"
   ]
  },
  {
   "cell_type": "markdown",
   "metadata": {},
   "source": [
    "## More complex models"
   ]
  },
  {
   "cell_type": "markdown",
   "metadata": {},
   "source": [
    "### Use scaling on the same model to make mae metric less misleading"
   ]
  },
  {
   "cell_type": "code",
   "execution_count": null,
   "metadata": {},
   "outputs": [],
   "source": [
    "# Initialize scalers\n",
    "scaler_n = MinMaxScaler(feature_range=(0, 1))\n",
    "scaler_k = MinMaxScaler(feature_range=(0, 1))\n",
    "\n",
    "# Normalize outputs\n",
    "Y_train_scaled = Y_train.copy()\n",
    "Y_test_scaled = Y_test.copy()\n",
    "\n",
    "# Scale the columns explicitly\n",
    "Y_train_scaled['n'] = scaler_n.fit_transform(Y_train[['n']])\n",
    "Y_train_scaled['k'] = scaler_k.fit_transform(Y_train[['k']])\n",
    "Y_test_scaled['n'] = scaler_n.transform(Y_test[['n']])\n",
    "Y_test_scaled['k'] = scaler_k.transform(Y_test[['k']])\n",
    "\n",
    "# Build the model for scaled data\n",
    "model_basic_scaled = build_model_basic(input_shape, output_shape)\n",
    "\n",
    "# Compile the model\n",
    "model_basic_scaled.compile(optimizer='adam', \n",
    "                    loss='mse',  # Mean Squared Error for regression\n",
    "                    metrics=['mae'])  # Mean Absolute Error as an additional metric\n",
    "\n",
    "# Summary\n",
    "model_basic_scaled.summary()\n",
    "\n",
    "# Train the model on scaled outputs\n",
    "history_scaled = model_basic_scaled.fit(\n",
    "    X_train, Y_train_scaled,\n",
    "    validation_data=(X_test, Y_test_scaled),\n",
    "    epochs=10,\n",
    "    batch_size=256,\n",
    "    verbose=1\n",
    ")\n",
    "\n",
    "# Rescale predictions for evaluation\n",
    "predictions_scaled = model_basic_scaled.predict(X_test)\n",
    "\n",
    "# Convert predictions to a DataFrame for easier handling\n",
    "predictions_scaled_df = pd.DataFrame(predictions_scaled, columns=['n', 'k'])\n",
    "\n",
    "# Rescale each output\n",
    "predictions_scaled_df['n'] = scaler_n.inverse_transform(predictions_scaled_df[['n']])\n",
    "predictions_scaled_df['k'] = scaler_k.inverse_transform(predictions_scaled_df[['k']])"
   ]
  },
  {
   "cell_type": "code",
   "execution_count": null,
   "metadata": {},
   "outputs": [],
   "source": [
    "plot_training_history(history_scaled)"
   ]
  },
  {
   "cell_type": "code",
   "execution_count": null,
   "metadata": {},
   "outputs": [],
   "source": [
    "# Create predictions for the validation set\n",
    "val_predicted = model_basic_scaled.predict(X_val)\n",
    "\n",
    "# Convert predictions to a DataFrame for easier handling\n",
    "val_predicted_scaled_df = pd.DataFrame(val_predicted, columns=['n', 'k'])\n",
    "\n",
    "# Rescale each output\n",
    "val_predicted_scaled_df['n'] = scaler_n.inverse_transform(val_predicted_scaled_df[['n']])\n",
    "val_predicted_scaled_df['k'] = scaler_k.inverse_transform(val_predicted_scaled_df[['k']])\n",
    "\n",
    "# Reshape the data: predicted data has 4 sets, each with 64 points\n",
    "n_pred_data = val_predicted_scaled_df['n'].values.reshape(4, 64)  # Reshape to 4 sets of 64 points each\n",
    "k_pred_data = val_predicted_scaled_df['k'].values.reshape(4, 64)"
   ]
  },
  {
   "cell_type": "code",
   "execution_count": null,
   "metadata": {},
   "outputs": [],
   "source": [
    "fig, axes = plt.subplots(2, 4, figsize=(16, 8))  # 4 wide, 2 tall grid\n",
    "\n",
    "# Plotting the n-related data\n",
    "for i in range(4):  \n",
    "    ax = axes[0, i]  \n",
    "    ax.plot(freqs[i], n_data[i], 'b-', label='n val') \n",
    "    ax.plot(freqs[i], n_pred_data[i], 'g-', label='n pred')  \n",
    "    ax.set_title(f'n Plot {i + 1}: Scaled Training')\n",
    "    ax.set_xlabel('Frequency')\n",
    "    ax.set_ylabel('n')\n",
    "    ax.legend()\n",
    "\n",
    "# Plotting the k-related data\n",
    "for i in range(4):  \n",
    "    ax = axes[1, i]  \n",
    "    ax.plot(freqs[i], k_data[i], 'r-', label='k val')  \n",
    "    ax.plot(freqs[i], k_pred_data[i], 'orange', label='k pred')  \n",
    "    ax.set_title(f'k Plot {i + 1}: Scaled Training')\n",
    "    ax.set_xlabel('Frequency')\n",
    "    ax.set_ylabel('k')\n",
    "    ax.legend()\n",
    "\n",
    "\n",
    "plt.tight_layout()\n",
    "\n",
    "plt.show()"
   ]
  },
  {
   "cell_type": "markdown",
   "metadata": {},
   "source": [
    "## Add noise to signals to see if it improves fitting"
   ]
  },
  {
   "cell_type": "code",
   "execution_count": 20,
   "metadata": {},
   "outputs": [],
   "source": [
    "# Define the standard deviation of the Gaussian noise\n",
    "std_dev_H = 0.01  \n",
    "std_dev_phi = 1 \n",
    "\n",
    "# Add Gaussian noise to each column\n",
    "X_noisy = X.copy()\n",
    "X_noisy['H'] += np.random.normal(0, std_dev_H, size=X['H'].shape)\n",
    "X_noisy['phi'] += np.random.normal(0, std_dev_phi, size=X['phi'].shape)"
   ]
  },
  {
   "cell_type": "code",
   "execution_count": null,
   "metadata": {},
   "outputs": [],
   "source": [
    "plt.plot(X_noisy['freq'].head(64), X_noisy['H'].head(64))"
   ]
  },
  {
   "cell_type": "code",
   "execution_count": 22,
   "metadata": {},
   "outputs": [],
   "source": [
    "X_train_noisy, X_test_noisy, Y_train_noisy, Y_test_noisy = train_test_split(X_noisy, Y, test_size=0.3, random_state=42)"
   ]
  },
  {
   "cell_type": "code",
   "execution_count": null,
   "metadata": {},
   "outputs": [],
   "source": [
    "display(X_train_noisy.head())\n",
    "display(Y_train_noisy.head())"
   ]
  },
  {
   "cell_type": "code",
   "execution_count": null,
   "metadata": {},
   "outputs": [],
   "source": [
    "# Initialize scalers for noisy X features\n",
    "noisy_scaler_n = MinMaxScaler(feature_range=(0, 1))\n",
    "noisy_scaler_k = MinMaxScaler(feature_range=(0, 1))\n",
    "\n",
    "# Normalize outputs\n",
    "Y_train_scaled_noisy = Y_train_noisy.copy()\n",
    "Y_test_scaled_noisy = Y_test_noisy.copy()\n",
    "\n",
    "# Scale the columns explicitly\n",
    "Y_train_scaled_noisy['n'] = noisy_scaler_n.fit_transform(Y_train_noisy[['n']])\n",
    "Y_train_scaled_noisy['k'] = noisy_scaler_k.fit_transform(Y_train_noisy[['k']])\n",
    "Y_test_scaled_noisy['n'] = noisy_scaler_n.transform(Y_test_noisy[['n']])\n",
    "Y_test_scaled_noisy['k'] = noisy_scaler_k.transform(Y_test_noisy[['k']])\n",
    "\n",
    "# Build the model for scaled data\n",
    "model_basic_noisy_scaled = build_model_basic(input_shape, output_shape)\n",
    "\n",
    "# Compile the model\n",
    "model_basic_noisy_scaled.compile(optimizer='adam', \n",
    "                    loss='mse',  # Mean Squared Error for regression\n",
    "                    metrics=['mae'])  # Mean Absolute Error as an additional metric\n",
    "\n",
    "# Summary\n",
    "model_basic_noisy_scaled.summary()\n",
    "\n",
    "# Train the model on scaled outputs\n",
    "history_noisy_scaled = model_basic_noisy_scaled.fit(\n",
    "    X_train_noisy, Y_train_scaled_noisy,\n",
    "    validation_data=(X_test_noisy, Y_test_scaled_noisy),\n",
    "    epochs=10,\n",
    "    batch_size=256,\n",
    "    verbose=1\n",
    ")"
   ]
  },
  {
   "cell_type": "code",
   "execution_count": null,
   "metadata": {},
   "outputs": [],
   "source": [
    "plot_training_history(history_noisy_scaled)"
   ]
  },
  {
   "cell_type": "code",
   "execution_count": null,
   "metadata": {},
   "outputs": [],
   "source": [
    "noisy_predictions = model_basic_noisy_scaled.predict(X_val)\n",
    "\n",
    "noisy_predictions_df = pd.DataFrame(noisy_predictions, columns=['n_scaled', 'k_scaled'])\n",
    "\n",
    "# Rescale each output\n",
    "noisy_predictions_df['n'] = noisy_scaler_n.inverse_transform(noisy_predictions_df[['n_scaled']])\n",
    "noisy_predictions_df['k'] = noisy_scaler_k.inverse_transform(noisy_predictions_df[['k_scaled']])\n",
    "\n",
    "# Reshape the data: predicted data has 4 sets, each with 64 points\n",
    "n_pred_data_noisy = noisy_predictions_df['n'].values.reshape(4, 64)  # Reshape to 4 sets of 64 points each\n",
    "k_pred_data_noisy = noisy_predictions_df['k'].values.reshape(4, 64)"
   ]
  },
  {
   "cell_type": "code",
   "execution_count": null,
   "metadata": {},
   "outputs": [],
   "source": [
    "fig, axes = plt.subplots(2, 4, figsize=(16, 8))  # 4 wide, 2 tall grid\n",
    "\n",
    "# Plotting the n-related data\n",
    "for i in range(4):  \n",
    "    ax = axes[0, i]  \n",
    "    ax.plot(freqs[i], n_data[i], 'b-', label='n val') \n",
    "    ax.plot(freqs[i], n_pred_data_noisy[i], 'g-', label='n pred')  \n",
    "    ax.set_title(f'n Plot {i + 1}: Scaled Training')\n",
    "    ax.set_xlabel('Frequency')\n",
    "    ax.set_ylabel('n')\n",
    "    ax.legend()\n",
    "\n",
    "# Plotting the k-related data\n",
    "for i in range(4):  \n",
    "    ax = axes[1, i]  \n",
    "    ax.plot(freqs[i], k_data[i], 'r-', label='k val')  \n",
    "    ax.plot(freqs[i], k_pred_data_noisy[i], 'orange', label='k pred')  \n",
    "    ax.set_title(f'k Plot {i + 1}: Scaled Training')\n",
    "    ax.set_xlabel('Frequency')\n",
    "    ax.set_ylabel('k')\n",
    "    ax.legend()\n",
    "\n",
    "\n",
    "plt.tight_layout()\n",
    "\n",
    "plt.show()"
   ]
  },
  {
   "cell_type": "code",
   "execution_count": null,
   "metadata": {},
   "outputs": [],
   "source": []
  }
 ],
 "metadata": {
  "kernelspec": {
   "display_name": "mphys",
   "language": "python",
   "name": "python3"
  },
  "language_info": {
   "codemirror_mode": {
    "name": "ipython",
    "version": 3
   },
   "file_extension": ".py",
   "mimetype": "text/x-python",
   "name": "python",
   "nbconvert_exporter": "python",
   "pygments_lexer": "ipython3",
   "version": "3.11.11"
  }
 },
 "nbformat": 4,
 "nbformat_minor": 2
}
