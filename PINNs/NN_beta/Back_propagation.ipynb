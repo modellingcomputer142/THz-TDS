{
 "cells": [
  {
   "cell_type": "markdown",
   "metadata": {},
   "source": [
    "# Backpropagation algorithm"
   ]
  },
  {
   "cell_type": "code",
   "execution_count": 1,
   "metadata": {},
   "outputs": [],
   "source": [
    "import numpy as np\n",
    "import pandas as pd\n",
    "import matplotlib.pyplot as plt\n",
    "from IPython.display import display\n",
    "import datetime as dt \n",
    "import autograd.numpy as anp\n",
    "from autograd import grad\n",
    "\n",
    "c = 299792458  # Speed of light in m/s§"
   ]
  },
  {
   "cell_type": "code",
   "execution_count": 2,
   "metadata": {},
   "outputs": [],
   "source": [
    "# Use definition as in the Extractor class\n",
    "\n",
    "def H_th_function(n, w, length):\n",
    "    '''\n",
    "    Inputs\n",
    "    ------\n",
    "    n: refractive index\n",
    "    w: frequency of light being propagated\n",
    "    length: length of the sample we are modelling\n",
    "    \n",
    "    outputs\n",
    "    -------\n",
    "    returns: output for the transfer function\n",
    "\n",
    "    Method\n",
    "    ------\n",
    "    Equation for transfer function derived from [Input source here]\n",
    "\n",
    "    '''\n",
    "    return (4 * n) / ((n + 1) ** 2) * anp.exp(-1j * (n - 1) * w * length/ c)"
   ]
  },
  {
   "cell_type": "code",
   "execution_count": null,
   "metadata": {},
   "outputs": [],
   "source": [
    "# TODO: generate random n,k,d for backprop algo, add noise to this."
   ]
  },
  {
   "cell_type": "code",
   "execution_count": 4,
   "metadata": {},
   "outputs": [],
   "source": [
    "# TODO: Copy grid-search approach to here"
   ]
  },
  {
   "cell_type": "code",
   "execution_count": 5,
   "metadata": {},
   "outputs": [],
   "source": [
    "# TODO: Implement pytorch back-prop here"
   ]
  }
 ],
 "metadata": {
  "kernelspec": {
   "display_name": "mphys",
   "language": "python",
   "name": "python3"
  },
  "language_info": {
   "codemirror_mode": {
    "name": "ipython",
    "version": 3
   },
   "file_extension": ".py",
   "mimetype": "text/x-python",
   "name": "python",
   "nbconvert_exporter": "python",
   "pygments_lexer": "ipython3",
   "version": "3.11.11"
  }
 },
 "nbformat": 4,
 "nbformat_minor": 2
}
